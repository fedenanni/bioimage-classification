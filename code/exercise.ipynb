{
 "cells": [
  {
   "cell_type": "markdown",
   "id": "dce8a4f4",
   "metadata": {},
   "source": [
    "# Phenotyping of Fly Wings"
   ]
  },
  {
   "cell_type": "markdown",
   "id": "be2a948d",
   "metadata": {},
   "source": [
    "## 1. Open the Dataset and Browse the Available Features\n",
    "\n",
    "In the folder \"data\" you will find the dataset used in the paper [Assessing the potential of vision language models for automated phenotyping of Drosophila melanogaster](https://www.biorxiv.org/content/biorxiv/early/2024/05/27/2024.05.27.594652.full.pdf). The dataset is composed of a XLSX file and an additional \"data\" folder containing the images associated with each fly wing. The first task is to:\n",
    "1. open the dataset and explore it\n",
    "2. examine whether any information is missing\n",
    "3. using the paper, study how the dataset was created\n",
    "4. find a way to open the dataset using Python"
   ]
  },
  {
   "cell_type": "code",
   "execution_count": null,
   "id": "399d86d7",
   "metadata": {},
   "outputs": [],
   "source": [
    "# use this command to download the dataset on Google Colab:\n",
    "!git clone https://github.com/fedenanni/bioimage-classification.git\n",
    "!mv bioimage-classification/data ./\n",
    "!rm -rf bioimage-classification "
   ]
  },
  {
   "cell_type": "code",
   "execution_count": 6,
   "id": "8df2075c",
   "metadata": {},
   "outputs": [
    {
     "data": {
      "text/html": [
       "<div>\n",
       "<style scoped>\n",
       "    .dataframe tbody tr th:only-of-type {\n",
       "        vertical-align: middle;\n",
       "    }\n",
       "\n",
       "    .dataframe tbody tr th {\n",
       "        vertical-align: top;\n",
       "    }\n",
       "\n",
       "    .dataframe thead th {\n",
       "        text-align: right;\n",
       "    }\n",
       "</style>\n",
       "<table border=\"1\" class=\"dataframe\">\n",
       "  <thead>\n",
       "    <tr style=\"text-align: right;\">\n",
       "      <th></th>\n",
       "      <th>TransformantID</th>\n",
       "      <th>FlyBaseID</th>\n",
       "      <th>Original order</th>\n",
       "      <th>Random order</th>\n",
       "      <th>CGNR</th>\n",
       "      <th>Gene Symbol</th>\n",
       "      <th>Notes</th>\n",
       "      <th>Filename</th>\n",
       "      <th>Phenotype</th>\n",
       "      <th>MN</th>\n",
       "      <th>GO/IP</th>\n",
       "      <th>GO/IP  Description</th>\n",
       "      <th>Expression Affi</th>\n",
       "      <th>Expression RNAs</th>\n",
       "      <th>Expression</th>\n",
       "      <th>Defect Type</th>\n",
       "      <th>Image_Path</th>\n",
       "      <th>Label</th>\n",
       "    </tr>\n",
       "  </thead>\n",
       "  <tbody>\n",
       "    <tr>\n",
       "      <th>0</th>\n",
       "      <td>36466</td>\n",
       "      <td>FBgn0033164</td>\n",
       "      <td>1</td>\n",
       "      <td>17</td>\n",
       "      <td>CG11112</td>\n",
       "      <td>CG11112</td>\n",
       "      <td>NaN</td>\n",
       "      <td>CG11112.png</td>\n",
       "      <td>V-(L5)</td>\n",
       "      <td>CG</td>\n",
       "      <td>NaN</td>\n",
       "      <td>NaN</td>\n",
       "      <td>5.23876</td>\n",
       "      <td>33</td>\n",
       "      <td>Y</td>\n",
       "      <td>veins (missing)</td>\n",
       "      <td>data/CG11112.png</td>\n",
       "      <td>V-</td>\n",
       "    </tr>\n",
       "    <tr>\n",
       "      <th>1</th>\n",
       "      <td>106124</td>\n",
       "      <td>FBgn0031245</td>\n",
       "      <td>2</td>\n",
       "      <td>73</td>\n",
       "      <td>CG3625</td>\n",
       "      <td>CG3625</td>\n",
       "      <td>sal 29C</td>\n",
       "      <td>CG3625 (sal 29ºC).png</td>\n",
       "      <td>V-(w)</td>\n",
       "      <td>CGh</td>\n",
       "      <td>IPR006838</td>\n",
       "      <td>FAR-17a/AIG1-like protein</td>\n",
       "      <td>3249.01000</td>\n",
       "      <td>49.6139</td>\n",
       "      <td>Y</td>\n",
       "      <td>veins (missing)</td>\n",
       "      <td>data/CG3625 (sal 29ºC).png</td>\n",
       "      <td>V-</td>\n",
       "    </tr>\n",
       "    <tr>\n",
       "      <th>2</th>\n",
       "      <td>110723</td>\n",
       "      <td>FBgn0086680</td>\n",
       "      <td>3</td>\n",
       "      <td>20</td>\n",
       "      <td>CG10037</td>\n",
       "      <td>vvl</td>\n",
       "      <td>NaN</td>\n",
       "      <td>CG10037.png</td>\n",
       "      <td>V-</td>\n",
       "      <td>DNA</td>\n",
       "      <td>GO:0000977</td>\n",
       "      <td>RNA polymerase II regulatory region sequence-s...</td>\n",
       "      <td>1973.23000</td>\n",
       "      <td>51.8337</td>\n",
       "      <td>Y</td>\n",
       "      <td>veins (missing)</td>\n",
       "      <td>data/CG10037.png</td>\n",
       "      <td>V-</td>\n",
       "    </tr>\n",
       "    <tr>\n",
       "      <th>3</th>\n",
       "      <td>NaN</td>\n",
       "      <td>NaN</td>\n",
       "      <td>4</td>\n",
       "      <td>45</td>\n",
       "      <td>CG3998</td>\n",
       "      <td>zf30C</td>\n",
       "      <td>sd</td>\n",
       "      <td>CG3998 (sd).png</td>\n",
       "      <td>V-</td>\n",
       "      <td>DNA</td>\n",
       "      <td>GO:0003676</td>\n",
       "      <td>nucleic acid binding</td>\n",
       "      <td>2173.12000</td>\n",
       "      <td>121.6</td>\n",
       "      <td>Y</td>\n",
       "      <td>veins (missing)</td>\n",
       "      <td>data/CG3998 (sd).png</td>\n",
       "      <td>V-</td>\n",
       "    </tr>\n",
       "    <tr>\n",
       "      <th>4</th>\n",
       "      <td>15754</td>\n",
       "      <td>FBgn0270924</td>\n",
       "      <td>5</td>\n",
       "      <td>38</td>\n",
       "      <td>CG3998</td>\n",
       "      <td>zf30C</td>\n",
       "      <td>sd 29C</td>\n",
       "      <td>CG3998 (sd 29ºC).png</td>\n",
       "      <td>V-</td>\n",
       "      <td>DNA</td>\n",
       "      <td>GO:0003676</td>\n",
       "      <td>nucleic acid binding</td>\n",
       "      <td>2173.12000</td>\n",
       "      <td>121.6</td>\n",
       "      <td>Y</td>\n",
       "      <td>veins (missing)</td>\n",
       "      <td>data/CG3998 (sd 29ºC).png</td>\n",
       "      <td>V-</td>\n",
       "    </tr>\n",
       "  </tbody>\n",
       "</table>\n",
       "</div>"
      ],
      "text/plain": [
       "  TransformantID    FlyBaseID  Original order  Random order     CGNR  \\\n",
       "0          36466  FBgn0033164               1            17  CG11112   \n",
       "1         106124  FBgn0031245               2            73   CG3625   \n",
       "2         110723  FBgn0086680               3            20  CG10037   \n",
       "3            NaN          NaN               4            45   CG3998   \n",
       "4          15754  FBgn0270924               5            38   CG3998   \n",
       "\n",
       "  Gene Symbol    Notes               Filename Phenotype   MN       GO/IP  \\\n",
       "0     CG11112      NaN            CG11112.png    V-(L5)   CG         NaN   \n",
       "1      CG3625  sal 29C  CG3625 (sal 29ºC).png     V-(w)  CGh   IPR006838   \n",
       "2         vvl      NaN            CG10037.png        V-  DNA  GO:0000977   \n",
       "3       zf30C       sd        CG3998 (sd).png        V-  DNA  GO:0003676   \n",
       "4       zf30C   sd 29C   CG3998 (sd 29ºC).png        V-  DNA  GO:0003676   \n",
       "\n",
       "                                  GO/IP  Description  Expression Affi  \\\n",
       "0                                                NaN          5.23876   \n",
       "1                          FAR-17a/AIG1-like protein       3249.01000   \n",
       "2  RNA polymerase II regulatory region sequence-s...       1973.23000   \n",
       "3                               nucleic acid binding       2173.12000   \n",
       "4                               nucleic acid binding       2173.12000   \n",
       "\n",
       "  Expression RNAs Expression      Defect Type                  Image_Path  \\\n",
       "0              33          Y  veins (missing)            data/CG11112.png   \n",
       "1         49.6139          Y  veins (missing)  data/CG3625 (sal 29ºC).png   \n",
       "2         51.8337          Y  veins (missing)            data/CG10037.png   \n",
       "3           121.6          Y  veins (missing)        data/CG3998 (sd).png   \n",
       "4           121.6          Y  veins (missing)   data/CG3998 (sd 29ºC).png   \n",
       "\n",
       "  Label  \n",
       "0    V-  \n",
       "1    V-  \n",
       "2    V-  \n",
       "3    V-  \n",
       "4    V-  "
      ]
     },
     "execution_count": 6,
     "metadata": {},
     "output_type": "execute_result"
    }
   ],
   "source": [
    "# tip: feel free to use an AI tool for learning how to open the dataset in Google Colab, but you should be able to explain what the code does to load the images\n",
    "\n",
    "import pandas as pd\n",
    "\n",
    "df = pd.read_excel('../data/dataset.xlsx')\n",
    "df.head()"
   ]
  },
  {
   "cell_type": "code",
   "execution_count": 8,
   "id": "7836f64a",
   "metadata": {},
   "outputs": [],
   "source": [
    "paths = df['Image_Path'].tolist()\n",
    "\n",
    "paths = ['../data/' + path for path in paths]\n",
    "\n",
    "\n",
    "labels = df['Label'].tolist()\n",
    "\n",
    "# Binary classification\n",
    "\n",
    "y = [0 if label == 'wt' else 1 for label in labels]"
   ]
  },
  {
   "cell_type": "markdown",
   "id": "86619a72",
   "metadata": {},
   "source": [
    "# 2. Perform a Classification\n",
    "\n",
    "By examining the dataset you can select a feature you want to predict based on the image. It could be, as in the paper linked above, the aberrant vs wildtype phenotye or it could be predicting generally the type of phenotype or it could be something else of your own choice. Compare the performance of two of the classified discussed in class. Be careful, in this setting you don't have many training data - are there other evaluation practices that can help you assessing performance apart from train/test split? "
   ]
  },
  {
   "cell_type": "code",
   "execution_count": null,
   "id": "f219de59",
   "metadata": {},
   "outputs": [],
   "source": [
    "# tip: you need two things: 1) to convert and resize the images and 2) to select a label from the spreadsheet and use that as your y\n"
   ]
  },
  {
   "cell_type": "markdown",
   "id": "550ae5af",
   "metadata": {},
   "source": [
    "# 3. Examine the Errors the Tools Make\n",
    "\n",
    "Compare the errors the classifiers make (which images are mis-labelled?). Do you notice any specific type of pattern? How good are performance overall? Would you use a tool like this as part of an experimental pipeline? What would be the trade-offs?"
   ]
  },
  {
   "cell_type": "code",
   "execution_count": 13,
   "id": "4ca07e9f",
   "metadata": {},
   "outputs": [
    {
     "name": "stdout",
     "output_type": "stream",
     "text": [
      "\u001b[1m4/4\u001b[0m \u001b[32m━━━━━━━━━━━━━━━━━━━━\u001b[0m\u001b[37m\u001b[0m \u001b[1m3s\u001b[0m 638ms/step\n"
     ]
    }
   ],
   "source": [
    "# tip: you need to associate each classified image with the predicted label. Then you can manually examine a few of the errors\n",
    "from PIL import Image\n",
    "from keras.applications import ResNet50\n",
    "from keras.applications.resnet50 import preprocess_input\n",
    "import numpy as np\n",
    "\n",
    "X = []  # list, not numpy array yet\n",
    "\n",
    "for path in paths:\n",
    "    image = Image.open(path).convert(\"RGB\")\n",
    "    image = image.resize((224, 224))\n",
    "    X.append(np.array(image))\n",
    "\n",
    "# Stack into one 4D tensor\n",
    "X = np.stack(X)  # shape: (num_images, 224, 224, 3)\n",
    "\n",
    "# Preprocess for ResNet\n",
    "X = preprocess_input(X)\n",
    "\n",
    "# Load pretrained ResNet (without top classifier)\n",
    "resnet = ResNet50(weights='imagenet', include_top=False, pooling='avg')\n",
    "\n",
    "# Extract embeddings\n",
    "embeddings = resnet.predict(X, verbose=1)\n"
   ]
  },
  {
   "cell_type": "code",
   "execution_count": 14,
   "id": "a74448cd",
   "metadata": {},
   "outputs": [],
   "source": [
    "from sklearn.model_selection import train_test_split\n",
    "\n",
    "X_train, X_test, y_train, y_test = train_test_split(embeddings, y, test_size=0.2, random_state=42)"
   ]
  },
  {
   "cell_type": "code",
   "execution_count": 18,
   "id": "1c489a44",
   "metadata": {},
   "outputs": [
    {
     "name": "stdout",
     "output_type": "stream",
     "text": [
      "KNN on pretrained ResNet embeddings (n_train=80, n_test=20): 0.9000\n",
      "\n",
      "Classification Report:\n",
      "              precision    recall  f1-score   support\n",
      "\n",
      "           0      0.600     1.000     0.750         3\n",
      "           1      1.000     0.882     0.938        17\n",
      "\n",
      "    accuracy                          0.900        20\n",
      "   macro avg      0.800     0.941     0.844        20\n",
      "weighted avg      0.940     0.900     0.909        20\n",
      "\n"
     ]
    },
    {
     "data": {
      "image/png": "[encoded data removed]",
      "text/plain": [
       "<Figure size 640x480 with 2 Axes>"
      ]
     },
     "metadata": {},
     "output_type": "display_data"
    }
   ],
   "source": [
    "# KNN classifier\n",
    "from sklearn.neighbors import KNeighborsClassifier\n",
    "from sklearn.metrics import accuracy_score, classification_report, confusion_matrix, ConfusionMatrixDisplay\n",
    "import matplotlib.pyplot as plt\n",
    "\n",
    "knn = KNeighborsClassifier(n_neighbors=3, n_jobs=-1)\n",
    "knn.fit(X_train, y_train)\n",
    "\n",
    "y_pred = knn.predict(X_test)\n",
    "acc = accuracy_score(y_test, y_pred)\n",
    "print(f\"KNN on pretrained ResNet embeddings (n_train={len(X_train)}, n_test={len(X_test)}): {acc:.4f}\")\n",
    "\n",
    "# Precision, Recall, F1 report\n",
    "report = classification_report(y_test, y_pred, digits=3)\n",
    "print(\"\\nClassification Report:\")\n",
    "print(report)\n",
    "\n",
    "# Confusion matrix\n",
    "cm = confusion_matrix(y_test, y_pred)\n",
    "disp = ConfusionMatrixDisplay(confusion_matrix=cm, display_labels=range(2))\n",
    "disp.plot(cmap='Blues', values_format='d')\n",
    "plt.title(f\"Confusion Matrix – KNN on ResNet Embeddings ({len(X_train)} train, {len(X_test)} test)\")\n",
    "plt.show()"
   ]
  },
  {
   "cell_type": "markdown",
   "id": "522ddce6",
   "metadata": {},
   "source": [
    "# 4. Optional: LLMs for Image Classification\n",
    "\n",
    "In the paper linked above, we used a LLM for image classification. You can try the same and then discuss what do you think are the major differences compared to training a machine learning classifier. Which benefits do you see? What are the drawbacks?\n",
    "\n",
    "Feel free to use any LLM you want. You don't need to redo the entire classification, a specific experiment to compare performance will be good enough."
   ]
  }
 ],
 "metadata": {
  "kernelspec": {
   "display_name": "bioimage-classification",
   "language": "python",
   "name": "python3"
  },
  "language_info": {
   "codemirror_mode": {
    "name": "ipython",
    "version": 3
   },
   "file_extension": ".py",
   "mimetype": "text/x-python",
   "name": "python",
   "nbconvert_exporter": "python",
   "pygments_lexer": "ipython3",
   "version": "3.13.2"
  }
 },
 "nbformat": 4,
 "nbformat_minor": 5
}
